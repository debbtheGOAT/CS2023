{
  "nbformat": 4,
  "nbformat_minor": 0,
  "metadata": {
    "colab": {
      "provenance": [],
      "authorship_tag": "ABX9TyOtzNIcXb+v9ix/YowRhhjy",
      "include_colab_link": true
    },
    "kernelspec": {
      "name": "python3",
      "display_name": "Python 3"
    },
    "language_info": {
      "name": "python"
    }
  },
  "cells": [
    {
      "cell_type": "markdown",
      "metadata": {
        "id": "view-in-github",
        "colab_type": "text"
      },
      "source": [
        "<a href=\"https://colab.research.google.com/github/debbtheGOAT/CS2023/blob/main/20230913_4120J053.ipynb\" target=\"_parent\"><img src=\"https://colab.research.google.com/assets/colab-badge.svg\" alt=\"Open In Colab\"/></a>"
      ]
    },
    {
      "cell_type": "code",
      "execution_count": 9,
      "metadata": {
        "id": "aoXoUfrDiR-U",
        "colab": {
          "base_uri": "https://localhost:8080/"
        },
        "outputId": "48354c15-3afa-4c75-d3be-7bfcfaf294e6"
      },
      "outputs": [
        {
          "output_type": "execute_result",
          "data": {
            "text/plain": [
              "1162261467"
            ]
          },
          "metadata": {},
          "execution_count": 9
        }
      ],
      "source": [
        "3**19"
      ]
    },
    {
      "cell_type": "code",
      "source": [
        "# -*- coding: utf-8 -*-\n",
        "x=input(debbtheGOAT)\n"
      ],
      "metadata": {
        "id": "I_Gknqthnp9s"
      },
      "execution_count": 11,
      "outputs": []
    }
  ]
}